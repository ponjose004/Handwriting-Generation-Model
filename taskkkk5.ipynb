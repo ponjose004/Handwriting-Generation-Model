{
 "cells": [
  {
   "cell_type": "code",
   "execution_count": 1,
   "id": "f75b339a",
   "metadata": {},
   "outputs": [
    {
     "name": "stdout",
     "output_type": "stream",
     "text": [
      "Splitting data/deepwriting\\deepwriting_training.npz → data/deepwriting\\train/\n",
      "Splitting data/deepwriting\\deepwriting_validation.npz → data/deepwriting\\val/\n"
     ]
    }
   ],
   "source": [
    "import os, numpy as np\n",
    "\n",
    "DATA_DIR = \"data/deepwriting\"\n",
    "SPLITS = {\n",
    "    \"train\":      \"deepwriting_training.npz\",\n",
    "    \"val\":         \"deepwriting_validation.npz\"\n",
    "}\n",
    "\n",
    "for split, fn in SPLITS.items():\n",
    "    inp = os.path.join(DATA_DIR, fn)\n",
    "    outdir = os.path.join(DATA_DIR, split)\n",
    "    os.makedirs(outdir, exist_ok=True)\n",
    "    print(f\"Splitting {inp} → {outdir}/\")\n",
    "    arr = np.load(inp, allow_pickle=True)\n",
    "    strokes = arr['strokes']\n",
    "    texts   = arr['texts']\n",
    "    for i, (s, t) in enumerate(zip(strokes, texts)):\n",
    "        s = s.astype(np.float32)\n",
    "        np.savez(os.path.join(outdir, f\"{i:06d}.npz\"),\n",
    "                 strokes=s, chars=t)\n",
    "    arr.close()\n"
   ]
  },
  {
   "cell_type": "code",
   "execution_count": 2,
   "id": "db4523e5",
   "metadata": {},
   "outputs": [
    {
     "name": "stdout",
     "output_type": "stream",
     "text": [
      "Global mean: [1.0562458e-03 2.8255243e-05 4.2473756e-02] Global std: [0.00564527 0.00785551 0.19761197]\n"
     ]
    }
   ],
   "source": [
    "import os, numpy as np\n",
    "\n",
    "\n",
    "stats = np.load(os.path.join(DATA_DIR, \"deepwriting_training.npz\"), allow_pickle=True)\n",
    "global_mean = stats['mean'].astype(np.float32)  # shape (3,)\n",
    "global_std  = stats['std'].astype(np.float32)   # shape (3,)\n",
    "stats.close()\n",
    "print(\"Global mean:\", global_mean, \"Global std:\", global_std)"
   ]
  },
  {
   "cell_type": "code",
   "execution_count": 3,
   "id": "a8bb6542",
   "metadata": {},
   "outputs": [],
   "source": [
    "import torch\n",
    "from torch.utils.data import Dataset, DataLoader\n",
    "\n",
    "class SketchRNNDataset(Dataset):\n",
    "    def __init__(self, folder, mean, std, max_len=250):\n",
    "        self.files = sorted(os.listdir(folder))\n",
    "        self.mean, self.std = mean, std\n",
    "        self.max_len = max_len\n",
    "\n",
    "    def __len__(self): return len(self.files)\n",
    "    def __getitem__(self, i):\n",
    "        data = np.load(os.path.join(folder, self.files[i]), allow_pickle=True)\n",
    "        strokes = data['strokes'][:self.max_len].astype(np.float32)\n",
    "        # normalize\n",
    "        strokes = (strokes - self.mean) / self.std\n",
    "        # pad to max_len\n",
    "        pad = self.max_len - strokes.shape[0]\n",
    "        if pad>0:\n",
    "            strokes = np.pad(strokes, ((0,pad),(0,0)), 'constant')\n",
    "        return torch.from_numpy(strokes)  # (max_len, 3)\n",
    "\n",
    "def collate_fn(batch):\n",
    "    # batch: list of (T,3) already fixed at max_len\n",
    "    return torch.stack(batch,0)  # (B,max_len,3)\n",
    "\n",
    "# example loader\n",
    "train_ds = SketchRNNDataset(os.path.join(DATA_DIR,'train'), global_mean, global_std)\n",
    "train_dl = DataLoader(train_ds, batch_size=64, shuffle=True, collate_fn=collate_fn, num_workers=4)"
   ]
  },
  {
   "cell_type": "code",
   "execution_count": 4,
   "id": "3a2f791e",
   "metadata": {},
   "outputs": [],
   "source": [
    "# %% [markdown]\n",
    "# ## 4. SketchRNN Model\n",
    "\n",
    "# %%\n",
    "import torch.nn as nn\n",
    "\n",
    "class SketchRNN(nn.Module):\n",
    "    def __init__(self, input_dim=3, hid_dim=256, z_dim=128, n_layers=1, n_mixes=20):\n",
    "        super().__init__()\n",
    "        # -- Encoder P(h|x)\n",
    "        self.enc_rnn = nn.LSTM(input_dim, hid_dim, n_layers, batch_first=True, bidirectional=True)\n",
    "        self.fc_mu  = nn.Linear(2*hid_dim, z_dim)\n",
    "        self.fc_logvar = nn.Linear(2*hid_dim, z_dim)\n",
    "\n",
    "        # -- Decoder p(x|z)\n",
    "        self.z2h = nn.Linear(z_dim, hid_dim)\n",
    "        self.dec_rnn = nn.LSTM(input_dim + hid_dim, hid_dim, n_layers, batch_first=True)\n",
    "        self.fc_out = nn.Linear(hid_dim, n_mixes*6 + 3)  \n",
    "        # (6 params per Gaussian + pen_up, pen_down, pen_end)\n",
    "\n",
    "        self.hid_dim, self.z_dim, self.n_mixes = hid_dim, z_dim, n_mixes\n",
    "\n",
    "    def encode(self, x):\n",
    "        # x: (B, T, 3)\n",
    "        _, (h,_) = self.enc_rnn(x)  # h: (2*n_layers, B, hid_dim)\n",
    "        h = torch.cat([h[-2], h[-1]], dim=1)  # (B, 2*hid_dim)\n",
    "        mu     = self.fc_mu(h)\n",
    "        logvar = self.fc_logvar(h)\n",
    "        return mu, logvar\n",
    "\n",
    "    def reparameterize(self, mu, logvar):\n",
    "        std = torch.exp(0.5*logvar)\n",
    "        eps = torch.randn_like(std)\n",
    "        return mu + eps*std\n",
    "\n",
    "    def decode(self, z, x):\n",
    "        # z: (B, z_dim), x: teacher-forced strokes (B, T, 3)\n",
    "        h0 = torch.tanh(self.z2h(z)).unsqueeze(0)  # initial hidden\n",
    "        c0 = torch.zeros_like(h0)\n",
    "        B,T,_ = x.size()\n",
    "        zrep = z.unsqueeze(1).expand(-1,T,-1)\n",
    "        inp = torch.cat([x, zrep], dim=2)  # (B, T, 3+z_dim)\n",
    "        out, _ = self.dec_rnn(inp, (h0,c0))\n",
    "        params = self.fc_out(out)  # (B, T, n_mixes*6+3)\n",
    "        return params\n",
    "\n",
    "    def forward(self, x):\n",
    "        mu, logvar = self.encode(x)\n",
    "        z = self.reparameterize(mu, logvar)\n",
    "        params = self.decode(z, x)\n",
    "        return params, mu, logvar\n"
   ]
  },
  {
   "cell_type": "code",
   "execution_count": 5,
   "id": "cd9723f3",
   "metadata": {},
   "outputs": [],
   "source": [
    "# %% [markdown]\n",
    "# ## 5. Losses: Reconstruction + KL\n",
    "\n",
    "# %%\n",
    "import torch.nn.functional as F\n",
    "\n",
    "def sketchrnn_loss(params, target, mu, logvar, n_mixes, kl_weight=0.5):\n",
    "    \"\"\"\n",
    "    params: (B,T,6*M+3)\n",
    "      - first 6*M for MDN\n",
    "      - last 3 are pen_up/down/end logits (use CE)\n",
    "    target: (B,T,3) with (dx,dy,one-hot pen state)\n",
    "    \"\"\"\n",
    "    B,T,_ = params.size()\n",
    "    # split params\n",
    "    mdn_params = params[:,:,:6*n_mixes]    # MDN part\n",
    "    pen_logits = params[:,:,6*n_mixes:]   # (B,T,3)\n",
    "    # MDN reconstruction over dx,dy\n",
    "    recon = mdn_loss(mdn_params, target[:,:,:3], n_mixes)\n",
    "    # pen state CE\n",
    "    pen_true = F.one_hot(target[:,:,2].long(), num_classes=3).float()\n",
    "    pen_loss = F.cross_entropy(pen_logits.view(-1,3), pen_true.view(-1,3), reduction='mean')\n",
    "    # KL divergence\n",
    "    kl = -0.5 * torch.mean(1 + logvar - mu.pow(2) - logvar.exp())\n",
    "    return recon + pen_loss + kl_weight*kl\n"
   ]
  },
  {
   "cell_type": "code",
   "execution_count": 6,
   "id": "36d63c3a",
   "metadata": {},
   "outputs": [
    {
     "name": "stdout",
     "output_type": "stream",
     "text": [
      "Using device: cuda\n"
     ]
    }
   ],
   "source": [
    "# %% [markdown]\n",
    "# ## Setup Device\n",
    "\n",
    "# %%\n",
    "import torch\n",
    "\n",
    "# choose GPU if available, otherwise CPU\n",
    "DEVICE = torch.device(\"cuda\" if torch.cuda.is_available() else \"cpu\")\n",
    "print(\"Using device:\", DEVICE)\n"
   ]
  },
  {
   "cell_type": "markdown",
   "id": "c6f6a690",
   "metadata": {},
   "source": [
    "FINAL"
   ]
  },
  {
   "cell_type": "code",
   "execution_count": 1,
   "id": "d77c659b",
   "metadata": {},
   "outputs": [],
   "source": [
    "# Full training script with visible per‐epoch & per‐batch progress (no multiprocessing)\n",
    "\n",
    "import os\n",
    "import numpy as np\n",
    "import torch\n",
    "import torch.nn as nn\n",
    "import torch.nn.functional as F\n",
    "from torch.utils.data import Dataset, DataLoader\n",
    "from torch.nn.utils.rnn import pack_padded_sequence, pad_packed_sequence\n",
    "from tqdm import tqdm\n",
    "import math\n",
    "\n",
    "# 0. Hyperparameters & device\n",
    "DEVICE     = torch.device(\"cuda\" if torch.cuda.is_available() else \"cpu\")\n",
    "BATCH_SIZE = 32\n",
    "EPOCHS     = 10\n",
    "LR         = 1e-3\n",
    "N_MIX      = 20\n",
    "MAX_SEQ    = 500"
   ]
  },
  {
   "cell_type": "code",
   "execution_count": 2,
   "id": "dc6dbeb5",
   "metadata": {},
   "outputs": [],
   "source": [
    "# 1. Load global normalization stats\n",
    "stats = np.load(\"data/deepwriting/deepwriting_training.npz\", allow_pickle=True)\n",
    "GLOBAL_MEAN = stats['mean'].astype(np.float32)\n",
    "GLOBAL_STD  = stats['std'].astype(np.float32)\n",
    "stats.close()\n",
    "\n",
    "# 2. Vocabulary\n",
    "vocab    = ['<pad>','<s>','</s>','<unk>'] + [chr(i) for i in range(32,127)]\n",
    "char2idx = {c:i for i,c in enumerate(vocab)}\n",
    "\n",
    "# 3. Dataset & collate\n",
    "class DeepWritingDataset(Dataset):\n",
    "    def __init__(self, folder, char2idx, max_seq=MAX_SEQ):\n",
    "        self.files = sorted(os.listdir(folder))\n",
    "        self.folder = folder\n",
    "        self.c2i = char2idx\n",
    "        self.max_seq = max_seq\n",
    "\n",
    "    def __len__(self):\n",
    "        return len(self.files)\n",
    "\n",
    "    def __getitem__(self, idx):\n",
    "        path = os.path.join(self.folder, self.files[idx])\n",
    "        npz  = np.load(path, allow_pickle=True)\n",
    "        # 1. load strokes and text\n",
    "        s    = npz['strokes'][:self.max_seq].astype(np.float32)\n",
    "        txt  = npz['chars'].item()\n",
    "        npz.close()\n",
    "\n",
    "        # 2. normalize\n",
    "        s = (s - GLOBAL_MEAN) / GLOBAL_STD\n",
    "\n",
    "        # 3. tokenize\n",
    "        toks = ['<s>'] + list(txt) + ['</s>']\n",
    "        seq  = [self.c2i.get(t, self.c2i['<unk>']) for t in toks]\n",
    "\n",
    "        return torch.from_numpy(s), torch.tensor(seq, dtype=torch.long)\n",
    "\n",
    "\n",
    "def collate_fn(batch):\n",
    "    strokes, texts = zip(*batch)\n",
    "    B = len(batch)\n",
    "    lens_s = [s.shape[0] for s in strokes]\n",
    "    lens_t = [t.numel()   for t in texts]\n",
    "    T_max = max(lens_s); L_max = max(lens_t)\n",
    "\n",
    "    S = torch.zeros(B, T_max, 3)\n",
    "    for i, s in enumerate(strokes): S[i,:s.shape[0]] = s\n",
    "    T = torch.full((B, L_max), 0, dtype=torch.long)\n",
    "    for i, t in enumerate(texts):   T[i,:t.numel()]  = t\n",
    "\n",
    "    return {'strokes': S,\n",
    "            'seq_lens': torch.tensor(lens_s),\n",
    "            'texts':    T,\n",
    "            'text_lens':torch.tensor(lens_t)}"
   ]
  },
  {
   "cell_type": "code",
   "execution_count": 3,
   "id": "3da3af8f",
   "metadata": {},
   "outputs": [],
   "source": [
    "# 4. Model components\n",
    "class TextEncoder(nn.Module):\n",
    "    def __init__(self, vocab_size, emb_dim=128, hid_dim=256, n_layers=1):\n",
    "        super().__init__()\n",
    "        self.embed = nn.Embedding(vocab_size, emb_dim, padding_idx=0)\n",
    "        self.lstm  = nn.LSTM(emb_dim, hid_dim, n_layers,\n",
    "                             bidirectional=True, batch_first=True)\n",
    "    def forward(self, txt, lengths):\n",
    "        e = self.embed(txt)\n",
    "        p = pack_padded_sequence(e, lengths.cpu(), batch_first=True, enforce_sorted=False)\n",
    "        out,_ = self.lstm(p)\n",
    "        o,_   = pad_packed_sequence(out, batch_first=True)\n",
    "        H = o.size(2)//2\n",
    "        return o[:,:,:H] + o[:,:,H:]\n",
    "\n",
    "class Attention(nn.Module):\n",
    "    def __init__(self, dec_dim, enc_dim):\n",
    "        super().__init__()\n",
    "        self.lin = nn.Linear(dec_dim + enc_dim, enc_dim)\n",
    "        self.v   = nn.Linear(enc_dim, 1, bias=False)\n",
    "    def forward(self, h_t, enc_out):\n",
    "        B,L,_ = enc_out.size()\n",
    "        h_exp = h_t.unsqueeze(1).expand(-1,L,-1)\n",
    "        e = torch.tanh(self.lin(torch.cat([h_exp, enc_out], dim=2)))\n",
    "        a = torch.softmax(self.v(e).squeeze(2), dim=1)\n",
    "        ctx = torch.bmm(a.unsqueeze(1), enc_out).squeeze(1)\n",
    "        return ctx, a\n",
    "\n",
    "class HandwritingDecoder(nn.Module):\n",
    "    def __init__(self, enc_dim=256, dec_dim=512, n_layers=2, n_mix=N_MIX):\n",
    "        super().__init__()\n",
    "        self.lstm = nn.LSTM(3 + enc_dim, dec_dim, n_layers, batch_first=True)\n",
    "        self.attn = Attention(dec_dim, enc_dim)\n",
    "        self.fc   = nn.Linear(dec_dim, n_mix*6 + 1)\n",
    "        self.n_mix = n_mix\n",
    "    def forward(self, strokes, enc_out):\n",
    "        B,T,_= strokes.size()\n",
    "        h=c=None; outs=[]\n",
    "        for t in range(T-1):\n",
    "            if t==0:\n",
    "                layers,_,hS = self.lstm.num_layers, B, self.lstm.hidden_size\n",
    "                h = torch.zeros(layers,B,hS, device=strokes.device)\n",
    "                c = torch.zeros_like(h)\n",
    "            prev = strokes[:,t]\n",
    "            ctx,_ = self.attn(h[-1], enc_out)\n",
    "            x = torch.cat([prev, ctx], dim=1).unsqueeze(1)\n",
    "            out,(h,c) = self.lstm(x,(h,c))\n",
    "            outs.append(self.fc(out.squeeze(1)))\n",
    "        return torch.stack(outs, dim=1)\n",
    "\n",
    "class HandwritingModel(nn.Module):\n",
    "    def __init__(self, vocab_size):\n",
    "        super().__init__()\n",
    "        self.enc = TextEncoder(vocab_size)\n",
    "        self.dec = HandwritingDecoder()\n",
    "    def forward(self, strokes, texts, text_lens):\n",
    "        enc = self.enc(texts, text_lens)\n",
    "        return self.dec(strokes, enc)\n"
   ]
  },
  {
   "cell_type": "code",
   "execution_count": 4,
   "id": "d36add48",
   "metadata": {},
   "outputs": [],
   "source": [
    "# 5. MDN loss\n",
    "def mdn_loss(params, target, n_mix):\n",
    "    B,T,D = params.size()\n",
    "    p = params.view(B,T, n_mix*6+1)\n",
    "    log_pi = F.log_softmax(p[...,:n_mix], dim=-1)\n",
    "    idx = n_mix\n",
    "    mu_x = p[..., idx:idx+n_mix]; idx+=n_mix\n",
    "    mu_y = p[..., idx:idx+n_mix]; idx+=n_mix\n",
    "    log_sx = p[..., idx:idx+n_mix]; idx+=n_mix\n",
    "    log_sy = p[..., idx:idx+n_mix]; idx+=n_mix\n",
    "    rho    = torch.tanh(p[..., idx:idx+n_mix]); idx+=n_mix\n",
    "    pen_logits = p[..., -1]\n",
    "\n",
    "    x = target[...,0].unsqueeze(-1); y = target[...,1].unsqueeze(-1)\n",
    "    pen = target[...,2]\n",
    "    sx = torch.exp(log_sx); sy = torch.exp(log_sy)\n",
    "    nx = (x-mu_x)/sx; ny = (y-mu_y)/sy\n",
    "    z  = nx**2 + ny**2 - 2*rho*nx*ny\n",
    "    denom = 2*(1-rho**2)\n",
    "    log_coeff = - log_sx - log_sy - 0.5*torch.log(2*math.pi*(1-rho**2))\n",
    "    log_gauss = -z/denom + log_coeff\n",
    "\n",
    "    log_mix = log_pi + log_gauss\n",
    "    loss_pt = -torch.logsumexp(log_mix,dim=-1).mean()\n",
    "    loss_pen= F.binary_cross_entropy_with_logits(pen_logits, pen, reduction='mean')\n",
    "    return loss_pt + loss_pen\n"
   ]
  },
  {
   "cell_type": "code",
   "execution_count": 5,
   "id": "df9bd192",
   "metadata": {},
   "outputs": [],
   "source": [
    "\n",
    "# 6. Instantiate datasets, dataloaders, model, optimizer\n",
    "train_ds = DeepWritingDataset(\"data/deepwriting/train\", char2idx)\n",
    "val_ds   = DeepWritingDataset(\"data/deepwriting/val\",   char2idx)\n",
    "train_dl = DataLoader(\n",
    "    train_ds,\n",
    "    batch_size=BATCH_SIZE,\n",
    "    shuffle=True,\n",
    "    collate_fn=collate_fn,\n",
    "    pin_memory=True,\n",
    "    num_workers=0   # ← set to 0 in notebooks!\n",
    ")\n",
    "val_dl = DataLoader(\n",
    "    val_ds,\n",
    "    batch_size=BATCH_SIZE,\n",
    "    shuffle=False,\n",
    "    collate_fn=collate_fn,\n",
    "    pin_memory=True,\n",
    "    num_workers=0\n",
    ")\n",
    "\n",
    "model = HandwritingModel(len(vocab)).to(DEVICE)\n",
    "opt   = torch.optim.Adam(model.parameters(), lr=LR)\n",
    "sched = torch.optim.lr_scheduler.StepLR(opt, step_size=5, gamma=0.5)\n"
   ]
  },
  {
   "cell_type": "code",
   "execution_count": 6,
   "id": "1a720d6f",
   "metadata": {},
   "outputs": [
    {
     "name": "stdout",
     "output_type": "stream",
     "text": [
      "Train loader length: 1081\n",
      " Batch 0:  {'strokes': torch.Size([32, 334, 3]), 'seq_lens': torch.Size([32]), 'texts': torch.Size([32, 49]), 'text_lens': torch.Size([32])}\n",
      " Batch 1:  {'strokes': torch.Size([32, 341, 3]), 'seq_lens': torch.Size([32]), 'texts': torch.Size([32, 53]), 'text_lens': torch.Size([32])}\n",
      " Batch 2:  {'strokes': torch.Size([32, 343, 3]), 'seq_lens': torch.Size([32]), 'texts': torch.Size([32, 47]), 'text_lens': torch.Size([32])}\n"
     ]
    }
   ],
   "source": [
    "print(f\"Train loader length: {len(train_dl)}\")\n",
    "for i, batch in enumerate(train_dl):\n",
    "    print(f\" Batch {i}: \", {k: v.shape for k,v in batch.items()})\n",
    "    if i >= 2: break"
   ]
  },
  {
   "cell_type": "code",
   "execution_count": null,
   "id": "e9f317de",
   "metadata": {},
   "outputs": [],
   "source": []
  },
  {
   "cell_type": "code",
   "execution_count": 9,
   "id": "77926655",
   "metadata": {},
   "outputs": [
    {
     "name": "stdout",
     "output_type": "stream",
     "text": [
      "\n",
      "Epoch 1/10\n"
     ]
    },
    {
     "name": "stderr",
     "output_type": "stream",
     "text": [
      "Training: 100%|██████████| 1081/1081 [16:35<00:00,  1.09it/s]\n"
     ]
    },
    {
     "name": "stdout",
     "output_type": "stream",
     "text": [
      " → Train loss: -33.7908\n"
     ]
    },
    {
     "name": "stderr",
     "output_type": "stream",
     "text": [
      "Validating: 100%|██████████| 23/23 [00:05<00:00,  4.37it/s]\n"
     ]
    },
    {
     "name": "stdout",
     "output_type": "stream",
     "text": [
      " → Val   loss: -41.5748\n",
      " ★ Saved best model (val=-41.5748)\n",
      "\n",
      "Epoch 2/10\n"
     ]
    },
    {
     "name": "stderr",
     "output_type": "stream",
     "text": [
      "Training: 100%|██████████| 1081/1081 [16:25<00:00,  1.10it/s]\n"
     ]
    },
    {
     "name": "stdout",
     "output_type": "stream",
     "text": [
      " → Train loss: -57.7069\n"
     ]
    },
    {
     "name": "stderr",
     "output_type": "stream",
     "text": [
      "Validating: 100%|██████████| 23/23 [00:05<00:00,  4.34it/s]\n"
     ]
    },
    {
     "name": "stdout",
     "output_type": "stream",
     "text": [
      " → Val   loss: -71.1862\n",
      " ★ Saved best model (val=-71.1862)\n",
      "\n",
      "Epoch 3/10\n"
     ]
    },
    {
     "name": "stderr",
     "output_type": "stream",
     "text": [
      "Training: 100%|██████████| 1081/1081 [16:45<00:00,  1.07it/s]\n"
     ]
    },
    {
     "name": "stdout",
     "output_type": "stream",
     "text": [
      " → Train loss: -88.9167\n"
     ]
    },
    {
     "name": "stderr",
     "output_type": "stream",
     "text": [
      "Validating: 100%|██████████| 23/23 [00:06<00:00,  3.82it/s]\n"
     ]
    },
    {
     "name": "stdout",
     "output_type": "stream",
     "text": [
      " → Val   loss: -108.1225\n",
      " ★ Saved best model (val=-108.1225)\n",
      "\n",
      "Epoch 4/10\n"
     ]
    },
    {
     "name": "stderr",
     "output_type": "stream",
     "text": [
      "Training: 100%|██████████| 1081/1081 [19:36<00:00,  1.09s/it]\n"
     ]
    },
    {
     "name": "stdout",
     "output_type": "stream",
     "text": [
      " → Train loss: -128.4148\n"
     ]
    },
    {
     "name": "stderr",
     "output_type": "stream",
     "text": [
      "Validating: 100%|██████████| 23/23 [00:08<00:00,  2.69it/s]\n"
     ]
    },
    {
     "name": "stdout",
     "output_type": "stream",
     "text": [
      " → Val   loss: -141.3058\n",
      " ★ Saved best model (val=-141.3058)\n",
      "\n",
      "Epoch 5/10\n"
     ]
    },
    {
     "name": "stderr",
     "output_type": "stream",
     "text": [
      "Training: 100%|██████████| 1081/1081 [16:36<00:00,  1.09it/s]\n"
     ]
    },
    {
     "name": "stdout",
     "output_type": "stream",
     "text": [
      " → Train loss: -159.5034\n"
     ]
    },
    {
     "name": "stderr",
     "output_type": "stream",
     "text": [
      "Validating: 100%|██████████| 23/23 [00:05<00:00,  4.36it/s]\n"
     ]
    },
    {
     "name": "stdout",
     "output_type": "stream",
     "text": [
      " → Val   loss: -162.3350\n",
      " ★ Saved best model (val=-162.3350)\n",
      "\n",
      "Epoch 6/10\n"
     ]
    },
    {
     "name": "stderr",
     "output_type": "stream",
     "text": [
      "Training: 100%|██████████| 1081/1081 [17:36<00:00,  1.02it/s]\n"
     ]
    },
    {
     "name": "stdout",
     "output_type": "stream",
     "text": [
      " → Train loss: -176.3723\n"
     ]
    },
    {
     "name": "stderr",
     "output_type": "stream",
     "text": [
      "Validating: 100%|██████████| 23/23 [00:08<00:00,  2.63it/s]\n"
     ]
    },
    {
     "name": "stdout",
     "output_type": "stream",
     "text": [
      " → Val   loss: -178.4746\n",
      " ★ Saved best model (val=-178.4746)\n",
      "\n",
      "Epoch 7/10\n"
     ]
    },
    {
     "name": "stderr",
     "output_type": "stream",
     "text": [
      "Training: 100%|██████████| 1081/1081 [20:15<00:00,  1.12s/it]\n"
     ]
    },
    {
     "name": "stdout",
     "output_type": "stream",
     "text": [
      " → Train loss: -195.4862\n"
     ]
    },
    {
     "name": "stderr",
     "output_type": "stream",
     "text": [
      "Validating: 100%|██████████| 23/23 [00:08<00:00,  2.72it/s]\n"
     ]
    },
    {
     "name": "stdout",
     "output_type": "stream",
     "text": [
      " → Val   loss: -197.0603\n",
      " ★ Saved best model (val=-197.0603)\n",
      "\n",
      "Epoch 8/10\n"
     ]
    },
    {
     "name": "stderr",
     "output_type": "stream",
     "text": [
      "Training: 100%|██████████| 1081/1081 [21:36<00:00,  1.20s/it]\n"
     ]
    },
    {
     "name": "stdout",
     "output_type": "stream",
     "text": [
      " → Train loss: -217.6069\n"
     ]
    },
    {
     "name": "stderr",
     "output_type": "stream",
     "text": [
      "Validating: 100%|██████████| 23/23 [00:05<00:00,  4.32it/s]\n"
     ]
    },
    {
     "name": "stdout",
     "output_type": "stream",
     "text": [
      " → Val   loss: -217.3119\n",
      " ★ Saved best model (val=-217.3119)\n",
      "\n",
      "Epoch 9/10\n"
     ]
    },
    {
     "name": "stderr",
     "output_type": "stream",
     "text": [
      "Training: 100%|██████████| 1081/1081 [1:04:11<00:00,  3.56s/it]  \n"
     ]
    },
    {
     "name": "stdout",
     "output_type": "stream",
     "text": [
      " → Train loss: -242.3370\n"
     ]
    },
    {
     "name": "stderr",
     "output_type": "stream",
     "text": [
      "Validating: 100%|██████████| 23/23 [00:05<00:00,  4.20it/s]\n"
     ]
    },
    {
     "name": "stdout",
     "output_type": "stream",
     "text": [
      " → Val   loss: -243.2635\n",
      " ★ Saved best model (val=-243.2635)\n",
      "\n",
      "Epoch 10/10\n"
     ]
    },
    {
     "name": "stderr",
     "output_type": "stream",
     "text": [
      "Training: 100%|██████████| 1081/1081 [17:34<00:00,  1.02it/s]\n"
     ]
    },
    {
     "name": "stdout",
     "output_type": "stream",
     "text": [
      " → Train loss: -264.2079\n"
     ]
    },
    {
     "name": "stderr",
     "output_type": "stream",
     "text": [
      "Validating: 100%|██████████| 23/23 [00:08<00:00,  2.61it/s]"
     ]
    },
    {
     "name": "stdout",
     "output_type": "stream",
     "text": [
      " → Val   loss: -256.7216\n",
      " ★ Saved best model (val=-256.7216)\n"
     ]
    },
    {
     "name": "stderr",
     "output_type": "stream",
     "text": [
      "\n"
     ]
    }
   ],
   "source": [
    "# 7. Training Loop with tqdm progress bars\n",
    "\n",
    "best_val = float('inf')\n",
    "for ep in range(1, EPOCHS+1):\n",
    "    model.train()\n",
    "    total_train = 0.0\n",
    "    print(f\"\\nEpoch {ep}/{EPOCHS}\")\n",
    "\n",
    "    for batch in tqdm(train_dl, total=len(train_dl), desc=\"Training\"):\n",
    "        S, T, tL = batch['strokes'].to(DEVICE), batch['texts'].to(DEVICE), batch['text_lens'].to(DEVICE)\n",
    "        opt.zero_grad()\n",
    "        out  = model(S, T, tL)\n",
    "        loss = mdn_loss(out, S[:,1:], model.dec.n_mix)\n",
    "        loss.backward()\n",
    "        torch.nn.utils.clip_grad_norm_(model.parameters(), 5.0)\n",
    "        opt.step()\n",
    "        total_train += loss.item()\n",
    "\n",
    "    sched.step()\n",
    "    avg_train = total_train / len(train_dl)\n",
    "    print(f\" → Train loss: {avg_train:.4f}\")\n",
    "\n",
    "    model.eval()\n",
    "    total_val = 0.0\n",
    "    with torch.no_grad():\n",
    "        for batch in tqdm(val_dl, total=len(val_dl), desc=\"Validating\"):\n",
    "            S, T, tL = batch['strokes'].to(DEVICE), batch['texts'].to(DEVICE), batch['text_lens'].to(DEVICE)\n",
    "            total_val += mdn_loss(model(S, T, tL), S[:,1:], model.dec.n_mix).item()\n",
    "\n",
    "    avg_val = total_val / len(val_dl)\n",
    "    print(f\" → Val   loss: {avg_val:.4f}\")\n",
    "\n",
    "    if avg_val < best_val:\n",
    "        best_val = avg_val\n",
    "        torch.save(model.state_dict(), os.path.join('models/', \"best.pth\"))\n",
    "        print(f\" ★ Saved best model (val={avg_val:.4f})\")\n"
   ]
  },
  {
   "cell_type": "code",
   "execution_count": 11,
   "id": "c2fdac93",
   "metadata": {},
   "outputs": [
    {
     "name": "stdout",
     "output_type": "stream",
     "text": [
      "Pen-up accuracy: 26.26%\n",
      "Average MDN NLL per batch: -7818.9003\n"
     ]
    }
   ],
   "source": [
    "# %% [markdown]\n",
    "# ## 10. Evaluate Pen-Up Accuracy & Avg NLL on Validation Set\n",
    "\n",
    "# %%\n",
    "from torch.utils.data import DataLoader\n",
    "\n",
    "# 1. Create validation DataLoader (if not already)\n",
    "test_ds = DeepWritingDataset(\"data/deepwriting/val\", char2idx)\n",
    "test_dl = DataLoader(test_ds,\n",
    "                     batch_size=BATCH_SIZE,\n",
    "                     shuffle=False,\n",
    "                     collate_fn=collate_fn,\n",
    "                     pin_memory=True,\n",
    "                     num_workers=0)\n",
    "\n",
    "# 2. Load best model\n",
    "model.load_state_dict(torch.load(os.path.join('models/', \"best.pth\"), map_location=DEVICE))\n",
    "model.to(DEVICE).eval()\n",
    "\n",
    "# 3. Compute metrics\n",
    "correct = 0\n",
    "total   = 0\n",
    "total_nll = 0.0\n",
    "\n",
    "with torch.no_grad():\n",
    "    for b in test_dl:\n",
    "        S  = b['strokes'].to(DEVICE)           # (B, T, 3)\n",
    "        T  = b['texts'].to(DEVICE)\n",
    "        tL = b['text_lens'].to(DEVICE)\n",
    "        out = model(S, T, tL)                  # (B, T-1, *)\n",
    "        \n",
    "        # Pen-up accuracy\n",
    "        pen_pred = (torch.sigmoid(out[..., -1]) > 0.5).float()\n",
    "        pen_true = S[:,1:,2]                   # ground-truth pen flags\n",
    "        correct += (pen_pred == pen_true).sum().item()\n",
    "        total   += pen_true.numel()\n",
    "        \n",
    "        # Average NLL (MDN loss)\n",
    "        batch_nll = mdn_loss(out, S[:,1:], model.dec.n_mix).item()\n",
    "        total_nll += batch_nll * S.size(0)\n",
    "\n",
    "# 4. Report\n",
    "pen_acc = correct / total\n",
    "avg_nll = total_nll / len(test_dl)\n",
    "print(f\"Pen-up accuracy: {pen_acc*100:.2f}%\")\n",
    "print(f\"Average MDN NLL per batch: {avg_nll:.4f}\")\n"
   ]
  },
  {
   "cell_type": "code",
   "execution_count": 16,
   "id": "c8e323b4",
   "metadata": {},
   "outputs": [
    {
     "name": "stdout",
     "output_type": "stream",
     "text": [
      "Pen-up accuracy: 26.26%\n",
      "Avg MDN NLL per batch: -7818.9003\n"
     ]
    }
   ],
   "source": [
    "# %% [markdown]\n",
    "# ## A) Compute Pen-Up Accuracy & Average NLL on Validation Set\n",
    "\n",
    "# %%\n",
    "# 1. Build a test DataLoader (if not already)\n",
    "test_ds = DeepWritingDataset(os.path.join('data/deepwriting/', \"val\"), char2idx)\n",
    "test_dl = DataLoader(test_ds,\n",
    "                     batch_size=BATCH_SIZE,\n",
    "                     shuffle=False,\n",
    "                     collate_fn=collate_fn,\n",
    "                     pin_memory=True,\n",
    "                     num_workers=0)\n",
    "\n",
    "# 2. Load the best‐saved model weights\n",
    "model.load_state_dict(torch.load(os.path.join('models/', \"best.pth\"), map_location=DEVICE))\n",
    "model.to(DEVICE).eval()\n",
    "\n",
    "# 3. Iterate and accumulate metrics\n",
    "correct = 0\n",
    "total   = 0\n",
    "sum_nll = 0.0\n",
    "\n",
    "with torch.no_grad():\n",
    "    for b in test_dl:\n",
    "        S  = b['strokes'].to(DEVICE)        # (B, T, 3)\n",
    "        Tt = b['texts'].to(DEVICE)          # (B, L)\n",
    "        tL = b['text_lens'].to(DEVICE)      # (B,)\n",
    "\n",
    "        out = model(S, Tt, tL)              # (B, T-1, 6*N_MIX+1)\n",
    "\n",
    "        # Pen-up accuracy\n",
    "        pen_pred = (torch.sigmoid(out[..., -1]) > 0.5).float()\n",
    "        pen_true = S[:, 1:, 2]\n",
    "        correct += (pen_pred == pen_true).sum().item()\n",
    "        total   += pen_true.numel()\n",
    "\n",
    "        # MDN negative log-likelihood\n",
    "        batch_nll = mdn_loss(out, S[:, 1:], model.dec.n_mix).item()\n",
    "        sum_nll  += batch_nll * S.size(0)\n",
    "\n",
    "# 4. Report\n",
    "pen_acc = correct / total\n",
    "avg_nll = sum_nll / len(test_dl)\n",
    "print(f\"Pen-up accuracy: {pen_acc*100:.2f}%\")\n",
    "print(f\"Avg MDN NLL per batch: {avg_nll:.4f}\")\n"
   ]
  },
  {
   "cell_type": "code",
   "execution_count": 18,
   "id": "6bcb4ed3",
   "metadata": {},
   "outputs": [
    {
     "data": {
      "image/png": "[encoded data removed]",
      "text/plain": [
       "<Figure size 600x200 with 1 Axes>"
      ]
     },
     "metadata": {},
     "output_type": "display_data"
    }
   ],
   "source": [
    "# %% [markdown]\n",
    "# ## Define Generation Function\n",
    "\n",
    "# %%\n",
    "import numpy as np\n",
    "import torch\n",
    "import matplotlib.pyplot as plt\n",
    "\n",
    "def generate_handwriting(model, text, char2idx, device, max_steps=300):\n",
    "    model.eval()\n",
    "    n_mix = model.dec.n_mix\n",
    "\n",
    "    # 1. Tokenize\n",
    "    seq  = ['<s>'] + list(text) + ['</s>']\n",
    "    idxs = [char2idx.get(c, char2idx['<unk>']) for c in seq]\n",
    "    T    = torch.tensor(idxs, device=device).unsqueeze(0)\n",
    "    tL   = torch.tensor([len(idxs)], device=device)\n",
    "\n",
    "    # 2. Initial stroke input\n",
    "    prev    = torch.tensor([[0., 0., 1.]], device=device, dtype=torch.float32).unsqueeze(0)\n",
    "    strokes = [prev.view(-1).cpu().numpy()]\n",
    "\n",
    "    h = c = None\n",
    "    enc = model.enc(T, tL)\n",
    "\n",
    "    # 3. Autoregressive sampling\n",
    "    for _ in range(max_steps):\n",
    "        if h is None:\n",
    "            nl, _, hs = model.dec.lstm.num_layers, 1, model.dec.lstm.hidden_size\n",
    "            h = torch.zeros(nl, 1, hs, device=device)\n",
    "            c = torch.zeros_like(h)\n",
    "\n",
    "        ctx, _      = model.dec.attn(h[-1], enc)\n",
    "        inp         = prev.view(1, 3)\n",
    "        x_in        = torch.cat([inp, ctx], dim=1).unsqueeze(1)\n",
    "        out, (h, c) = model.dec.lstm(x_in, (h, c))\n",
    "        p           = model.dec.fc(out.squeeze(1)).squeeze(0)\n",
    "\n",
    "        # sample mixture component\n",
    "        pi_logits = p[:n_mix]\n",
    "        pi_probs  = torch.softmax(pi_logits, dim=0).detach().cpu().numpy()\n",
    "        comp      = np.random.choice(n_mix, p=pi_probs)\n",
    "\n",
    "        # means & stds\n",
    "        mu_x   = p[n_mix + comp].item()\n",
    "        mu_y   = p[2*n_mix + comp].item()\n",
    "        log_sx = p[3*n_mix + comp].item()\n",
    "        log_sy = p[4*n_mix + comp].item()\n",
    "        sx, sy = np.exp(log_sx), np.exp(log_sy)\n",
    "\n",
    "        # sample deltas\n",
    "        dx = mu_x + sx * np.random.randn()\n",
    "        dy = mu_y + sy * np.random.randn()\n",
    "\n",
    "        # sample pen-up\n",
    "        pen_prob = torch.sigmoid(p[-1]).item()\n",
    "        pen_up   = float(torch.bernoulli(torch.tensor(pen_prob)))\n",
    "\n",
    "        prev = torch.tensor([[dx, dy, pen_up]], device=device, dtype=torch.float32).unsqueeze(0)\n",
    "        strokes.append(prev.view(-1).cpu().numpy())\n",
    "\n",
    "        if pen_up == 1.0 and len(strokes) > 60:\n",
    "            break\n",
    "\n",
    "    # 4. Render\n",
    "    pts = np.cumsum(np.array(strokes), axis=0)\n",
    "    plt.figure(figsize=(6,2))\n",
    "    plt.plot(pts[:,0], -pts[:,1], linewidth=1)\n",
    "    plt.axis('off')\n",
    "    plt.title(f\"“{text}”\")\n",
    "    plt.show()\n",
    "\n",
    "# %% [markdown]\n",
    "# ## Generate Handwriting\n",
    "\n",
    "# %%\n",
    "# Load best model if needed\n",
    "model.load_state_dict(torch.load(os.path.join('models/', \"best.pth\"), map_location=DEVICE))\n",
    "model.to(DEVICE)\n",
    "\n",
    "user_text = input(\"Enter text to generate handwriting: \")\n",
    "generate_handwriting(model, user_text, char2idx, DEVICE)\n"
   ]
  }
 ],
 "metadata": {
  "kernelspec": {
   "display_name": "base",
   "language": "python",
   "name": "python3"
  },
  "language_info": {
   "codemirror_mode": {
    "name": "ipython",
    "version": 3
   },
   "file_extension": ".py",
   "mimetype": "text/x-python",
   "name": "python",
   "nbconvert_exporter": "python",
   "pygments_lexer": "ipython3",
   "version": "3.12.7"
  }
 },
 "nbformat": 4,
 "nbformat_minor": 5
}
